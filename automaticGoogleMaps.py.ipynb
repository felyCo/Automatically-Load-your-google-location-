{
 "cells": [
  {
   "cell_type": "code",
   "execution_count": 1,
   "metadata": {},
   "outputs": [],
   "source": [
    "import sys, webbrowser,pyperclip"
   ]
  },
  {
   "cell_type": "code",
   "execution_count": 2,
   "metadata": {},
   "outputs": [
    {
     "data": {
      "text/plain": [
       "True"
      ]
     },
     "execution_count": 2,
     "metadata": {},
     "output_type": "execute_result"
    }
   ],
   "source": [
    "#To find the location we need user input and there are two ways of doing this\n",
    "\n",
    "#First option is to pass it as an argument.Sys module is used in this case\n",
    "#argv is a function that accepts input from the command line\n",
    "sys.argv\n",
    "if (len(sys.argv) > 1):\n",
    "\n",
    "    location = ' '.join(sys.argv[1:]) #This will format the adress command appropriately\n",
    "    #findmap 16 Cross HSR Layout\n",
    "    #[' ','16', 'Cross', 'HSR', 'Layout']->[16 Cross HSR Layout]\n",
    "\n",
    "else:\n",
    "    \n",
    "      #Copy it from the list\n",
    "      location = pyperclip.paste()  \n",
    "    \n",
    "\n",
    "#The copied location is passed to\n",
    "webbrowser.open('https://www.google.com/maps/place/'+location)\n",
    " "
   ]
  },
  {
   "cell_type": "code",
   "execution_count": null,
   "metadata": {
    "collapsed": true
   },
   "outputs": [],
   "source": []
  }
 ],
 "metadata": {
  "kernelspec": {
   "display_name": "Python 3",
   "language": "python",
   "name": "python3"
  },
  "language_info": {
   "codemirror_mode": {
    "name": "ipython",
    "version": 3
   },
   "file_extension": ".py",
   "mimetype": "text/x-python",
   "name": "python",
   "nbconvert_exporter": "python",
   "pygments_lexer": "ipython3",
   "version": "3.6.5"
  }
 },
 "nbformat": 4,
 "nbformat_minor": 2
}
